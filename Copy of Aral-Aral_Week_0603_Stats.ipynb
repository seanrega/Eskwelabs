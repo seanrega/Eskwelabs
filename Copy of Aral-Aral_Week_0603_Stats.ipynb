{
 "cells": [
  {
   "cell_type": "markdown",
   "metadata": {
    "colab_type": "text",
    "id": "9grqysJ-CrwV"
   },
   "source": [
    "Wa# Statistics: The science of changing your mind under uncertainty"
   ]
  },
  {
   "cell_type": "markdown",
   "metadata": {
    "colab_type": "text",
    "id": "dLeV7dmdCrwW"
   },
   "source": [
    "At the end of this activity, you should be able to:\n",
    "\n",
    "- Make prediction using a linear regression"
   ]
  },
  {
   "cell_type": "markdown",
   "metadata": {
    "colab_type": "text",
    "id": "Ql82MR_SCrwX"
   },
   "source": [
    "## Make prediction\n",
    "\n",
    "As a food lover, you are curious to know if you can predict how much ham (in grams) is present in spam (in grams) using linear regression.\n",
    "\n",
    "|&nbsp;|spam   |ham  |\n",
    "|---|-------|----|\n",
    "|0\t|1.26\t|0.26|\n",
    "|1\t|1.46\t|0.46|\n",
    "|2\t|1.26\t|0.26|\n",
    "|3\t|0.62\t|0.12|\n",
    "|4\t|1.13\t|0.13|\n",
    "|5\t|1.79\t|0.79|\n",
    "|6\t|1.42\t|0.42|\n",
    "|7\t|0.19\t|0.19|\n",
    "|8\t|1.00\t|0.50|\n",
    "|9\t|0.70\t|0.20|\n"
   ]
  },
  {
   "cell_type": "markdown",
   "metadata": {
    "colab_type": "text",
    "id": "s9eC2MpXCrwY"
   },
   "source": [
    "<div class=\"alert-danger\">\n",
    "\n",
    "### Fit a line\n",
    "\n",
    "Using linear regression, what is the:\n",
    "- mean of spam?\n",
    "- mean of ham?\n",
    "- slope?\n",
    "- intercept?\n",
    "</div>"
   ]
  },
  {
   "cell_type": "code",
   "execution_count": 28,
   "metadata": {
    "colab": {
     "base_uri": "https://localhost:8080/",
     "height": 238
    },
    "colab_type": "code",
    "executionInfo": {
     "elapsed": 666,
     "status": "ok",
     "timestamp": 1568268968432,
     "user": {
      "displayName": "Sean R",
      "photoUrl": "",
      "userId": "00547933389351385543"
     },
     "user_tz": -480
    },
    "id": "RJ3cMxxkCrwZ",
    "outputId": "34a5dc2e-97a4-4871-9528-c602f3e14507"
   },
   "outputs": [
    {
     "name": "stdout",
     "output_type": "stream",
     "text": [
      "Spam mean: 1.0829999999999997\n",
      "Ham mean: 0.333\n",
      "beta1/slope = 0.31639985698531087\n",
      "beta0/intercept= -0.009661045115091582\n"
     ]
    }
   ],
   "source": [
    "# PLACE ANSWER HERE\n",
    "import numpy as np\n",
    "import matplotlib.pyplot as plt\n",
    "\n",
    "x = np.array([1.26, 1.46, 1.26, 0.62, 1.13, 1.79, 1.42, 0.19, 1.00, 0.70])\n",
    "y = np.array([0.26, 0.46, 0.26, 0.12, 0.13, 0.79, 0.42, 0.19, 0.50, 0.20])\n",
    "\n",
    "\n",
    "\n",
    "beta_1 = np.sum((x - x.mean()) * (y - y.mean())) / np.sum((x - x.mean()) ** 2)\n",
    "beta_0 = y.mean() - (beta_1 * x.mean())\n",
    "\n",
    "print('Spam mean:', x.mean())\n",
    "print('Ham mean:', y.mean())\n",
    "print('beta1/slope =', beta_1)\n",
    "print('beta0/intercept=', beta_0)"
   ]
  },
  {
   "cell_type": "code",
   "execution_count": 32,
   "metadata": {},
   "outputs": [
    {
     "data": {
      "text/plain": [
       "''"
      ]
     },
     "execution_count": 32,
     "metadata": {},
     "output_type": "execute_result"
    },
    {
     "data": {
      "image/png": "[encoded data removed]",
      "text/plain": [
       "<Figure size 432x288 with 1 Axes>"
      ]
     },
     "metadata": {
      "needs_background": "light"
     },
     "output_type": "display_data"
    }
   ],
   "source": [
    "plt.scatter(x, y)\n",
    "plt.title('Spam vs Ham')\n",
    "plt.xlabel('Spam')\n",
    "plt.ylabel('Ham')\n",
    ";"
   ]
  },
  {
   "cell_type": "markdown",
   "metadata": {
    "colab_type": "text",
    "id": "VTkJP7OBCrwd"
   },
   "source": [
    "<div class=\"alert-danger\">\n",
    "\n",
    "### Residuals\n",
    "\n",
    "Based on the linear regression model, what is the:\n",
    "- predicted value of ham of the first observation?\n",
    "- predicted value of ham of the last observation?\n",
    "- residual of the first observation?\n",
    "- residual of the last observation?\n",
    "\n",
    "</div>"
   ]
  },
  {
   "cell_type": "code",
   "execution_count": 38,
   "metadata": {
    "colab": {
     "base_uri": "https://localhost:8080/",
     "height": 164
    },
    "colab_type": "code",
    "executionInfo": {
     "elapsed": 825,
     "status": "error",
     "timestamp": 1568269070701,
     "user": {
      "displayName": "Sean R",
      "photoUrl": "",
      "userId": "00547933389351385543"
     },
     "user_tz": -480
    },
    "id": "dkAvecPJCrwe",
    "outputId": "fd7c6e6c-69df-4df6-b778-dce07f7837ad"
   },
   "outputs": [
    {
     "name": "stdout",
     "output_type": "stream",
     "text": [
      "Y predicted 1st obv: 0.3890027746864001\n",
      "Y predicted last obv: 0.211818854774626\n",
      "\n",
      "Residual 1st obv: -0.1290027746864001\n",
      "Residual last obv: -0.011818854774625992\n"
     ]
    }
   ],
   "source": [
    "# PLACE ANSWER HERE\n",
    "y_hat0 = beta_0 + (beta_1 * 1.26)\n",
    "y_hat9 = beta_0 + (beta_1 * 0.70)\n",
    "\n",
    "print('Y predicted 1st obv:', y_hat0)\n",
    "print('Y predicted last obv:', y_hat9)\n",
    "\n",
    "e_1st = 0.26 - y_hat0\n",
    "e_last = 0.20 - y_hat9\n",
    "\n",
    "print()\n",
    "print('Residual 1st obv:', e_1st)\n",
    "print('Residual last obv:', e_last)\n",
    "\n",
    "\n",
    "\n",
    "\n"
   ]
  },
  {
   "cell_type": "markdown",
   "metadata": {
    "colab_type": "text",
    "id": "8xzcma3iCrwg"
   },
   "source": [
    "<div class=\"alert-danger\">\n",
    "\n",
    "### Correlation\n",
    "\n",
    "Using the given dataset, what is the:\n",
    "- standard deviation of spam?\n",
    "- standard deviation of ham?\n",
    "- correlation of spam and ham?\n",
    "\n",
    "</div>"
   ]
  },
  {
   "cell_type": "code",
   "execution_count": 43,
   "metadata": {
    "colab": {},
    "colab_type": "code",
    "id": "lrM8ibKcCrwh"
   },
   "outputs": [
    {
     "name": "stdout",
     "output_type": "stream",
     "text": [
      "Standard deviation of Spam: 0.4697292364283445\n",
      "Standard deviation of Ham: 0.2097114419598723\n",
      "Correlation of Spam and Ham: 0.7086988761261099\n"
     ]
    }
   ],
   "source": [
    "# PLACE ANSWER HERE\n",
    "stv_spam = (np.var(x, ddof=1)) ** 0.5\n",
    "stv_ham = (np.var(y, ddof=1)) ** 0.5\n",
    "\n",
    "cor = (1 / (len(x) - 1)) * np.sum(((x - x.mean()) / stv_spam) * ((y - y.mean()) / stv_ham))\n",
    "\n",
    "print('Standard deviation of Spam:', stv_spam)\n",
    "print('Standard deviation of Ham:', stv_ham)\n",
    "print('Correlation of Spam and Ham:', cor)"
   ]
  },
  {
   "cell_type": "code",
   "execution_count": null,
   "metadata": {},
   "outputs": [],
   "source": []
  }
 ],
 "metadata": {
  "colab": {
   "name": "Copy of Aral-Aral_Week_0603_Stats.ipynb",
   "provenance": [
    {
     "file_id": "1eSFCfjbBDWfgzyzmh7-qURChAdK3_OU5",
     "timestamp": 1568257848988
    }
   ],
   "version": "0.3.2"
  },
  "kernelspec": {
   "display_name": "Python 3",
   "language": "python",
   "name": "python3"
  },
  "language_info": {
   "codemirror_mode": {
    "name": "ipython",
    "version": 3
   },
   "file_extension": ".py",
   "mimetype": "text/x-python",
   "name": "python",
   "nbconvert_exporter": "python",
   "pygments_lexer": "ipython3",
   "version": "3.7.3"
  },
  "latex_envs": {
   "LaTeX_envs_menu_present": true,
   "autoclose": false,
   "autocomplete": true,
   "bibliofile": "biblio.bib",
   "cite_by": "apalike",
   "current_citInitial": 1,
   "eqLabelWithNumbers": true,
   "eqNumInitial": 1,
   "hotkeys": {
    "equation": "Ctrl-E",
    "itemize": "Ctrl-I"
   },
   "labels_anchors": false,
   "latex_user_defs": false,
   "report_style_numbering": false,
   "user_envs_cfg": false
  },
  "toc": {
   "base_numbering": 1,
   "nav_menu": {},
   "number_sections": true,
   "sideBar": true,
   "skip_h1_title": false,
   "title_cell": "Table of Contents",
   "title_sidebar": "Contents",
   "toc_cell": false,
   "toc_position": {
    "height": "calc(100% - 180px)",
    "left": "10px",
    "top": "150px",
    "width": "194.188px"
   },
   "toc_section_display": true,
   "toc_window_display": false
  },
  "varInspector": {
   "cols": {
    "lenName": 16,
    "lenType": 16,
    "lenVar": 40
   },
   "kernels_config": {
    "python": {
     "delete_cmd_postfix": "",
     "delete_cmd_prefix": "del ",
     "library": "var_list.py",
     "varRefreshCmd": "print(var_dic_list())"
    },
    "r": {
     "delete_cmd_postfix": ") ",
     "delete_cmd_prefix": "rm(",
     "library": "var_list.r",
     "varRefreshCmd": "cat(var_dic_list()) "
    }
   },
   "types_to_exclude": [
    "module",
    "function",
    "builtin_function_or_method",
    "instance",
    "_Feature"
   ],
   "window_display": false
  }
 },
 "nbformat": 4,
 "nbformat_minor": 1
}
