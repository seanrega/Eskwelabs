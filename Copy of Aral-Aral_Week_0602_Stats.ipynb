{
 "cells": [
  {
   "cell_type": "markdown",
   "metadata": {
    "colab_type": "text",
    "id": "YZYMC3-Rd3sS"
   },
   "source": [
    "# Statistics: The science of changing your mind under uncertainty"
   ]
  },
  {
   "cell_type": "markdown",
   "metadata": {
    "colab_type": "text",
    "id": "N1rl8WA_d3sU"
   },
   "source": [
    "At the end of this activity, you should be able to:\n",
    "\n",
    "- Describe data using measure of dispersion\n",
    "- Estimate uncertainty using standard error\n",
    "- Make decision using test statistic and p-value"
   ]
  },
  {
   "cell_type": "markdown",
   "metadata": {
    "ExecuteTime": {
     "end_time": "2019-09-08T03:11:49.965709Z",
     "start_time": "2019-09-08T03:11:49.952911Z"
    },
    "colab_type": "text",
    "id": "fr5KtxPId3sV"
   },
   "source": [
    "## Describe data"
   ]
  },
  {
   "cell_type": "markdown",
   "metadata": {
    "colab_type": "text",
    "id": "5O-jhlFDd3sW"
   },
   "source": [
    "<div class=\"alert-danger\">\n",
    "\n",
    "### Measure of dispersion\n",
    "\n",
    "You are conducting a research on seaweeds and you received a sample size from its population. The weight measurement is given in grams:\n",
    "\n",
    "```python\n",
    "[24, 62, 93, 40, 90, 40, 91, 83, 85, 73, 10,  7, 55, 91, 24, 25,  2, 28, 94,  7]\n",
    "```\n",
    "\n",
    "What is the sample variance of their weight?\n",
    "</div>"
   ]
  },
  {
   "cell_type": "code",
   "execution_count": 1,
   "metadata": {
    "ExecuteTime": {
     "end_time": "2019-09-09T14:30:53.043802Z",
     "start_time": "2019-09-09T14:30:53.036631Z"
    },
    "colab": {
     "base_uri": "https://localhost:8080/",
     "height": 34
    },
    "colab_type": "code",
    "executionInfo": {
     "elapsed": 831,
     "status": "ok",
     "timestamp": 1568187705311,
     "user": {
      "displayName": "Sean R",
      "photoUrl": "",
      "userId": "00547933389351385543"
     },
     "user_tz": -480
    },
    "id": "onwbVE-Td3sX",
    "outputId": "c21ffde0-c42b-4d80-f678-aa1125c95033"
   },
   "outputs": [
    {
     "name": "stdout",
     "output_type": "stream",
     "text": [
      "Variance = 1157.5368421052633 grams\n"
     ]
    }
   ],
   "source": [
    "# PLACE ANSWER HERE\n",
    "sample = [24, 62, 93, 40, 90, 40, 91, 83, 85, 73, 10,  7, 55, 91, 24, 25,  2, 28, 94,  7]\n",
    "mean = sum(sample) / len(sample)\n",
    "num = []\n",
    "for obv in sample:\n",
    "  numerator = (obv - mean) ** 2\n",
    "  num.append(numerator)\n",
    "\n",
    "nume = sum(num)\n",
    "\n",
    "variance = nume / (len(sample) - 1)\n",
    "print('Variance =', variance, 'grams')\n"
   ]
  },
  {
   "cell_type": "code",
   "execution_count": 6,
   "metadata": {},
   "outputs": [
    {
     "name": "stdout",
     "output_type": "stream",
     "text": [
      "1157.5368421052633\n"
     ]
    }
   ],
   "source": [
    "import numpy as np\n",
    "sample = [24, 62, 93, 40, 90, 40, 91, 83, 85, 73, 10,  7, 55, 91, 24, 25,  2, 28, 94,  7]\n",
    "\n",
    "s2 = np.sum((sample - np.mean(sample)) ** 2) / (len(sample) - 1)\n",
    "print(s2)"
   ]
  },
  {
   "cell_type": "code",
   "execution_count": 7,
   "metadata": {},
   "outputs": [
    {
     "data": {
      "text/plain": [
       "1157.5368421052633"
      ]
     },
     "execution_count": 7,
     "metadata": {},
     "output_type": "execute_result"
    }
   ],
   "source": [
    "np.var(sample, ddof =1)"
   ]
  },
  {
   "cell_type": "markdown",
   "metadata": {
    "colab_type": "text",
    "id": "_xOna95Td3sd"
   },
   "source": [
    "## Estimate uncertainty"
   ]
  },
  {
   "cell_type": "markdown",
   "metadata": {
    "colab_type": "text",
    "id": "FxqFXXVed3se"
   },
   "source": [
    "<div class=\"alert-danger\">\n",
    "\n",
    "### Standard error\n",
    "\n",
    "Your data science team decided to reduce the sample size of seaweeds from 1000 to 30.\n",
    "What would happen to the standard error if sample proportion is 0.85?\n",
    "\n",
    "</div>"
   ]
  },
  {
   "cell_type": "code",
   "execution_count": 2,
   "metadata": {
    "ExecuteTime": {
     "end_time": "2019-09-09T14:34:05.720297Z",
     "start_time": "2019-09-09T14:34:05.708502Z"
    },
    "colab": {
     "base_uri": "https://localhost:8080/",
     "height": 51
    },
    "colab_type": "code",
    "executionInfo": {
     "elapsed": 723,
     "status": "ok",
     "timestamp": 1568189846739,
     "user": {
      "displayName": "Sean R",
      "photoUrl": "",
      "userId": "00547933389351385543"
     },
     "user_tz": -480
    },
    "id": "dS9Q2zDKd3sf",
    "outputId": "b8c43fee-697e-4fe1-893b-902d59a3b736"
   },
   "outputs": [
    {
     "name": "stdout",
     "output_type": "stream",
     "text": [
      "0.011291589790636216\n",
      "0.0651920240520265\n"
     ]
    }
   ],
   "source": [
    "# PLACE ANSWER HERE\n",
    "# Sample = 1000   sqrt [ p(1 - p) / n ]\n",
    "\n",
    "n_1 = 1000\n",
    "p = 0.85\n",
    "SE_1 = (p * (1 - p) / n_1) ** (.5)\n",
    "print(SE_1)\n",
    "\n",
    "n_2 = 30\n",
    "p = 0.85\n",
    "SE_2 = (p * (1 - p) / n_2) ** (.5)\n",
    "print(SE_2)\n",
    "\n",
    "# the standard error increased as the number of samples decreased\n"
   ]
  },
  {
   "cell_type": "markdown",
   "metadata": {
    "colab_type": "text",
    "id": "A040d-Sxd3si"
   },
   "source": [
    "## Make decision"
   ]
  },
  {
   "cell_type": "markdown",
   "metadata": {
    "colab_type": "text",
    "id": "SzBLWEDpd3sj"
   },
   "source": [
    "<div class=\"alert-danger\">\n",
    "\n",
    "### Statistical hypothesis\n",
    "\n",
    "The weight of 100 samples of seaweed generated a mean of 23.43 grams and a \n",
    "standard deviation of 14.59 grams. The minimum weight is 1.00 gram and \n",
    "the maximum weight is 49.00 grams. The population mean is 18.23 grams.\n",
    "What is your conclusion based from the test statistic and p-value?\n",
    "</div>"
   ]
  },
  {
   "cell_type": "code",
   "execution_count": 3,
   "metadata": {
    "colab": {
     "base_uri": "https://localhost:8080/",
     "height": 51
    },
    "colab_type": "code",
    "executionInfo": {
     "elapsed": 1530,
     "status": "ok",
     "timestamp": 1568288928596,
     "user": {
      "displayName": "Sean R",
      "photoUrl": "",
      "userId": "00547933389351385543"
     },
     "user_tz": -480
    },
    "id": "zINaWgJhd3sk",
    "outputId": "4eb0e085-e6af-4135-e100-664499a6bf4e"
   },
   "outputs": [
    {
     "name": "stdout",
     "output_type": "stream",
     "text": [
      "T-statistic: 13.613685006837319\n",
      "P-value: 0\n"
     ]
    }
   ],
   "source": [
    "# PLACE ANSWER HERE\n",
    "\n",
    "u = 18.23\n",
    "x = 100\n",
    "\n",
    "s = 23.43\n",
    "stdev = 14.59\n",
    "\n",
    "t_statistic = (s - u) / ((stdev / x) ** (0.5))\n",
    "\n",
    "print('T-statistic:', t_statistic)\n",
    "print('P-value:', 0)\n",
    "\n"
   ]
  }
 ],
 "metadata": {
  "colab": {
   "name": "Copy of Aral-Aral_Week_0602_Stats.ipynb",
   "provenance": [
    {
     "file_id": "1w7r5EaNN4tL4aaAVexAiJMIJd7ugmgvJ",
     "timestamp": 1568187686220
    }
   ],
   "version": "0.3.2"
  },
  "kernelspec": {
   "display_name": "Python 3",
   "language": "python",
   "name": "python3"
  },
  "language_info": {
   "codemirror_mode": {
    "name": "ipython",
    "version": 3
   },
   "file_extension": ".py",
   "mimetype": "text/x-python",
   "name": "python",
   "nbconvert_exporter": "python",
   "pygments_lexer": "ipython3",
   "version": "3.7.3"
  },
  "latex_envs": {
   "LaTeX_envs_menu_present": true,
   "autoclose": false,
   "autocomplete": true,
   "bibliofile": "biblio.bib",
   "cite_by": "apalike",
   "current_citInitial": 1,
   "eqLabelWithNumbers": true,
   "eqNumInitial": 1,
   "hotkeys": {
    "equation": "Ctrl-E",
    "itemize": "Ctrl-I"
   },
   "labels_anchors": false,
   "latex_user_defs": false,
   "report_style_numbering": false,
   "user_envs_cfg": false
  },
  "toc": {
   "base_numbering": 1,
   "nav_menu": {},
   "number_sections": true,
   "sideBar": true,
   "skip_h1_title": false,
   "title_cell": "Table of Contents",
   "title_sidebar": "Contents",
   "toc_cell": false,
   "toc_position": {
    "height": "calc(100% - 180px)",
    "left": "10px",
    "top": "150px",
    "width": "194.188px"
   },
   "toc_section_display": true,
   "toc_window_display": false
  },
  "varInspector": {
   "cols": {
    "lenName": 16,
    "lenType": 16,
    "lenVar": 40
   },
   "kernels_config": {
    "python": {
     "delete_cmd_postfix": "",
     "delete_cmd_prefix": "del ",
     "library": "var_list.py",
     "varRefreshCmd": "print(var_dic_list())"
    },
    "r": {
     "delete_cmd_postfix": ") ",
     "delete_cmd_prefix": "rm(",
     "library": "var_list.r",
     "varRefreshCmd": "cat(var_dic_list()) "
    }
   },
   "types_to_exclude": [
    "module",
    "function",
    "builtin_function_or_method",
    "instance",
    "_Feature"
   ],
   "window_display": false
  }
 },
 "nbformat": 4,
 "nbformat_minor": 1
}
