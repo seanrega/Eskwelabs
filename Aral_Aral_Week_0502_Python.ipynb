{
  "nbformat": 4,
  "nbformat_minor": 0,
  "metadata": {
    "kernelspec": {
      "display_name": "Python [conda env:ml-env]",
      "language": "python",
      "name": "conda-env-ml-env-py"
    },
    "language_info": {
      "codemirror_mode": {
        "name": "ipython",
        "version": 3
      },
      "file_extension": ".py",
      "mimetype": "text/x-python",
      "name": "python",
      "nbconvert_exporter": "python",
      "pygments_lexer": "ipython3",
      "version": "3.6.7"
    },
    "latex_envs": {
      "LaTeX_envs_menu_present": true,
      "autoclose": false,
      "autocomplete": true,
      "bibliofile": "biblio.bib",
      "cite_by": "apalike",
      "current_citInitial": 1,
      "eqLabelWithNumbers": true,
      "eqNumInitial": 1,
      "hotkeys": {
        "equation": "Ctrl-E",
        "itemize": "Ctrl-I"
      },
      "labels_anchors": false,
      "latex_user_defs": false,
      "report_style_numbering": false,
      "user_envs_cfg": false
    },
    "toc": {
      "base_numbering": 1,
      "nav_menu": {},
      "number_sections": true,
      "sideBar": true,
      "skip_h1_title": false,
      "title_cell": "Table of Contents",
      "title_sidebar": "Contents",
      "toc_cell": false,
      "toc_position": {},
      "toc_section_display": true,
      "toc_window_display": false
    },
    "varInspector": {
      "cols": {
        "lenName": 16,
        "lenType": 16,
        "lenVar": 40
      },
      "kernels_config": {
        "python": {
          "delete_cmd_postfix": "",
          "delete_cmd_prefix": "del ",
          "library": "var_list.py",
          "varRefreshCmd": "print(var_dic_list())"
        },
        "r": {
          "delete_cmd_postfix": ") ",
          "delete_cmd_prefix": "rm(",
          "library": "var_list.r",
          "varRefreshCmd": "cat(var_dic_list()) "
        }
      },
      "types_to_exclude": [
        "module",
        "function",
        "builtin_function_or_method",
        "instance",
        "_Feature"
      ],
      "window_display": false
    },
    "colab": {
      "name": "Aral-Aral_Week_0502_Python.ipynb",
      "version": "0.3.2",
      "provenance": [],
      "collapsed_sections": []
    }
  },
  "cells": [
    {
      "cell_type": "markdown",
      "metadata": {
        "id": "WIA6TsoO0JXu",
        "colab_type": "text"
      },
      "source": [
        "# Aral-Aral Week 5 Day 2: Python\n",
        "\n",
        "**Direction:**\n",
        "\n",
        "Provide each cell with Python code that best satisfies the instruction before it."
      ]
    },
    {
      "cell_type": "markdown",
      "metadata": {
        "id": "H7Hzicjq0JXw",
        "colab_type": "text"
      },
      "source": [
        "## Numerical Data"
      ]
    },
    {
      "cell_type": "markdown",
      "metadata": {
        "id": "Nibl3s0K0JXy",
        "colab_type": "text"
      },
      "source": [
        "```python\n",
        "# 1. Declare a statement to import NumPy.\n",
        "```"
      ]
    },
    {
      "cell_type": "code",
      "metadata": {
        "ExecuteTime": {
          "end_time": "2019-09-02T20:18:09.999845Z",
          "start_time": "2019-09-02T20:18:09.995888Z"
        },
        "id": "8ruiJWWu0JXz",
        "colab_type": "code",
        "colab": {}
      },
      "source": [
        "import numpy as np"
      ],
      "execution_count": 0,
      "outputs": []
    },
    {
      "cell_type": "markdown",
      "metadata": {
        "id": "rsA74Sag0JX4",
        "colab_type": "text"
      },
      "source": [
        "```python\n",
        "# 2. Create a Numpy array named `foo` as 10-integer array filled with zeros.\n",
        "```"
      ]
    },
    {
      "cell_type": "code",
      "metadata": {
        "ExecuteTime": {
          "end_time": "2019-09-02T20:27:18.262253Z",
          "start_time": "2019-09-02T20:27:18.256485Z"
        },
        "id": "j03vbPRB0JX5",
        "colab_type": "code",
        "colab": {}
      },
      "source": [
        "# TYPE ANSWER HERE \n",
        "foo = np.array([0,0,0,0,0,0,0,0,0,0])"
      ],
      "execution_count": 0,
      "outputs": []
    },
    {
      "cell_type": "markdown",
      "metadata": {
        "id": "kSBP43Qf0JX9",
        "colab_type": "text"
      },
      "source": [
        "```python\n",
        "# 3. Create a Numpy array named `bar` with 5 values evenly spaced between 0 and 1.\n",
        "```"
      ]
    },
    {
      "cell_type": "code",
      "metadata": {
        "ExecuteTime": {
          "end_time": "2019-09-02T20:27:13.533922Z",
          "start_time": "2019-09-02T20:27:13.526651Z"
        },
        "id": "07vEjJdm0JX-",
        "colab_type": "code",
        "outputId": "7d57fec7-587a-4581-aa4d-bde566a89d98",
        "colab": {
          "base_uri": "https://localhost:8080/",
          "height": 34
        }
      },
      "source": [
        "# TYPE ANSWER HERE\n",
        "bar = np.arange(0,1.1,0.25)\n",
        "print(bar)"
      ],
      "execution_count": 8,
      "outputs": [
        {
          "output_type": "stream",
          "text": [
            "[0.   0.25 0.5  0.75 1.  ]\n"
          ],
          "name": "stdout"
        }
      ]
    },
    {
      "cell_type": "markdown",
      "metadata": {
        "id": "9n9ufbtU0JYC",
        "colab_type": "text"
      },
      "source": [
        "## Data Manipulation"
      ]
    },
    {
      "cell_type": "markdown",
      "metadata": {
        "id": "TvezZ7l80JYE",
        "colab_type": "text"
      },
      "source": [
        "```python\n",
        "# 4. Declare a statement to import Pandas.\n",
        "```"
      ]
    },
    {
      "cell_type": "code",
      "metadata": {
        "ExecuteTime": {
          "end_time": "2019-09-02T20:18:18.115113Z",
          "start_time": "2019-09-02T20:18:18.106239Z"
        },
        "id": "bKFANeNt0JYF",
        "colab_type": "code",
        "colab": {}
      },
      "source": [
        "# TYPE ANSWER HERE\n",
        "import pandas as pd"
      ],
      "execution_count": 0,
      "outputs": []
    },
    {
      "cell_type": "markdown",
      "metadata": {
        "id": "hrTMVXZB0JYI",
        "colab_type": "text"
      },
      "source": [
        "```python\n",
        "    # 5. Create a Pandas series named `baz` as an indexed data from `bar`.\n",
        "```"
      ]
    },
    {
      "cell_type": "code",
      "metadata": {
        "ExecuteTime": {
          "end_time": "2019-09-02T20:28:07.933033Z",
          "start_time": "2019-09-02T20:28:07.924599Z"
        },
        "id": "irIYaoXH0JYJ",
        "colab_type": "code",
        "outputId": "30db22d4-528a-44bc-fbf8-780ad9919435",
        "colab": {
          "base_uri": "https://localhost:8080/",
          "height": 119
        }
      },
      "source": [
        "# TYPE ANSWER HERE\n",
        "baz = pd.DataFrame(bar)\n",
        "print(baz)\n",
        "\n",
        "\n"
      ],
      "execution_count": 9,
      "outputs": [
        {
          "output_type": "stream",
          "text": [
            "      0\n",
            "0  0.00\n",
            "1  0.25\n",
            "2  0.50\n",
            "3  0.75\n",
            "4  1.00\n"
          ],
          "name": "stdout"
        }
      ]
    },
    {
      "cell_type": "markdown",
      "metadata": {
        "id": "TbgBZK0w0JYN",
        "colab_type": "text"
      },
      "source": [
        "```python\n",
        "# 6. Declare a statement to retrieve 0.75 from `baz` using index.\n",
        "```"
      ]
    },
    {
      "cell_type": "code",
      "metadata": {
        "ExecuteTime": {
          "end_time": "2019-09-02T20:28:36.693444Z",
          "start_time": "2019-09-02T20:28:36.676133Z"
        },
        "id": "HMjfuMKn0JYO",
        "colab_type": "code",
        "outputId": "097304eb-d2c7-4db1-e0e8-e9f693e75e72",
        "colab": {
          "base_uri": "https://localhost:8080/",
          "height": 51
        }
      },
      "source": [
        "# TYPE ANSWER HERE\n",
        "get = baz.loc[3]\n",
        "print(get)"
      ],
      "execution_count": 14,
      "outputs": [
        {
          "output_type": "stream",
          "text": [
            "0    0.75\n",
            "Name: 3, dtype: float64\n"
          ],
          "name": "stdout"
        }
      ]
    },
    {
      "cell_type": "markdown",
      "metadata": {
        "id": "gQXP9hjH0JYT",
        "colab_type": "text"
      },
      "source": [
        "## Visualization"
      ]
    },
    {
      "cell_type": "markdown",
      "metadata": {
        "id": "XPai7Kfz0JYX",
        "colab_type": "text"
      },
      "source": [
        "```python\n",
        "# 1. Declare a statement to import Matplotlib.pyplot.\n",
        "```"
      ]
    },
    {
      "cell_type": "code",
      "metadata": {
        "ExecuteTime": {
          "end_time": "2019-09-02T20:30:41.709270Z",
          "start_time": "2019-09-02T20:30:41.491600Z"
        },
        "id": "mDUYXP6d0JYY",
        "colab_type": "code",
        "colab": {}
      },
      "source": [
        "# TYPE ANSWER HERE\n",
        "import matplotlib.pyplot as plt"
      ],
      "execution_count": 0,
      "outputs": []
    },
    {
      "cell_type": "markdown",
      "metadata": {
        "id": "HqrCcyZG0JYc",
        "colab_type": "text"
      },
      "source": [
        "```python\n",
        "# 7. Plot `baz` as a bar graph.\n",
        "```\n"
      ]
    },
    {
      "cell_type": "code",
      "metadata": {
        "ExecuteTime": {
          "end_time": "2019-09-02T20:37:11.968892Z",
          "start_time": "2019-09-02T20:37:11.713413Z"
        },
        "id": "VzU9P9lZ0JYd",
        "colab_type": "code",
        "colab": {
          "base_uri": "https://localhost:8080/",
          "height": 282
        },
        "outputId": "4e75f39a-129d-47d7-f20c-d69f55dded9b"
      },
      "source": [
        "# TYPE ANSWER HERE\n",
        "baz.plot(kind='bar')"
      ],
      "execution_count": 25,
      "outputs": [
        {
          "output_type": "execute_result",
          "data": {
            "text/plain": [
              "<matplotlib.axes._subplots.AxesSubplot at 0x7f7c41095898>"
            ]
          },
          "metadata": {
            "tags": []
          },
          "execution_count": 25
        },
        {
          "output_type": "display_data",
          "data": {
            "image/png": "[encoded data removed]",
            "text/plain": [
              "<Figure size 432x288 with 1 Axes>"
            ]
          },
          "metadata": {
            "tags": []
          }
        }
      ]
    },
    {
      "cell_type": "markdown",
      "metadata": {
        "id": "nm7GG8iS0JYk",
        "colab_type": "text"
      },
      "source": [
        "```python\n",
        "# 8. Plot `baz` as a line graph.\n",
        "```\n"
      ]
    },
    {
      "cell_type": "code",
      "metadata": {
        "ExecuteTime": {
          "end_time": "2019-09-02T20:37:18.616637Z",
          "start_time": "2019-09-02T20:37:18.321492Z"
        },
        "id": "6TCW9ojR0JYm",
        "colab_type": "code",
        "colab": {
          "base_uri": "https://localhost:8080/",
          "height": 286
        },
        "outputId": "4959ac2a-9343-4843-a835-c5701d948dea"
      },
      "source": [
        "# TYPE ANSWER HERE\n",
        "baz.plot(kind='line')"
      ],
      "execution_count": 26,
      "outputs": [
        {
          "output_type": "execute_result",
          "data": {
            "text/plain": [
              "<matplotlib.axes._subplots.AxesSubplot at 0x7f7c41068748>"
            ]
          },
          "metadata": {
            "tags": []
          },
          "execution_count": 26
        },
        {
          "output_type": "display_data",
          "data": {
            "image/png": "[encoded data removed]",
            "text/plain": [
              "<Figure size 432x288 with 1 Axes>"
            ]
          },
          "metadata": {
            "tags": []
          }
        }
      ]
    },
    {
      "cell_type": "markdown",
      "metadata": {
        "id": "qvRv_8_20JYq",
        "colab_type": "text"
      },
      "source": [
        "```python\n",
        "# 9. Plot `baz` as a box-and-whiskers diagram.\n",
        "```"
      ]
    },
    {
      "cell_type": "code",
      "metadata": {
        "ExecuteTime": {
          "end_time": "2019-09-02T20:37:26.277576Z",
          "start_time": "2019-09-02T20:37:26.056904Z"
        },
        "id": "wglAzpfv0JYr",
        "colab_type": "code",
        "colab": {
          "base_uri": "https://localhost:8080/",
          "height": 286
        },
        "outputId": "f6f517e8-8158-44c3-db52-4e5021329357"
      },
      "source": [
        "# TYPE ANSWER HERE\n",
        "baz.plot(kind='box')"
      ],
      "execution_count": 29,
      "outputs": [
        {
          "output_type": "execute_result",
          "data": {
            "text/plain": [
              "<matplotlib.axes._subplots.AxesSubplot at 0x7f7c40f7ca20>"
            ]
          },
          "metadata": {
            "tags": []
          },
          "execution_count": 29
        },
        {
          "output_type": "display_data",
          "data": {
            "image/png": "[encoded data removed]",
            "text/plain": [
              "<Figure size 432x288 with 1 Axes>"
            ]
          },
          "metadata": {
            "tags": []
          }
        }
      ]
    }
  ]
}